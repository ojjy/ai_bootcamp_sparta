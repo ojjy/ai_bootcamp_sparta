{
 "cells": [
  {
   "cell_type": "markdown",
   "metadata": {},
   "source": [
    "가상화폐 트렌드 챗봇 - 뉴스 기사 크롤링 "
   ]
  },
  {
   "cell_type": "code",
   "execution_count": null,
   "metadata": {
    "colab": {
     "base_uri": "https://localhost:8080/"
    },
    "id": "TwaANvAGIwl4",
    "outputId": "02c156df-655d-4a3f-cf69-8c4fd3edebd4"
   },
   "outputs": [],
   "source": [
    "!pip install langchain-community langchain-chroma langchain-openai bs4"
   ]
  },
  {
   "cell_type": "code",
   "execution_count": 1,
   "metadata": {
    "colab": {
     "base_uri": "https://localhost:8080/"
    },
    "id": "lrlcWNMyI0HQ",
    "outputId": "4f5ba242-e76f-4246-a3f3-7c0d6dc7f7cb"
   },
   "outputs": [
    {
     "name": "stderr",
     "output_type": "stream",
     "text": [
      "USER_AGENT environment variable not set, consider setting it to identify your requests.\n"
     ]
    }
   ],
   "source": [
    "import bs4\n",
    "from langchain import hub\n",
    "from langchain_chroma import Chroma\n",
    "from langchain_openai import ChatOpenAI\n",
    "from langchain_openai import OpenAIEmbeddings\n",
    "from langchain_community.document_loaders import WebBaseLoader\n",
    "from langchain_text_splitters import RecursiveCharacterTextSplitter\n",
    "import os "
   ]
  },
  {
   "cell_type": "code",
   "execution_count": 2,
   "metadata": {
    "id": "gdjtGqsgI2Ub"
   },
   "outputs": [],
   "source": [
    "llm = ChatOpenAI(model=\"gpt-4o-mini\", api_key=os.getenv(\"OPENAI_API_KEY\"))"
   ]
  },
  {
   "cell_type": "code",
   "execution_count": 3,
   "metadata": {
    "id": "qhuzvEYGI4Yq"
   },
   "outputs": [
    {
     "data": {
      "text/plain": [
       "[Document(metadata={'source': 'https://n.news.naver.com/mnews/article/123/0002351254?sid=104'}, page_content='\\n\\n\\n\\n\\n\\n◆…지난 7월 미국 테네시주 내슈빌에서 열린 가상화폐 컨퍼런스에 참석한 도널드 트럼프 대통령 당선인 2024.07.27 <사진 로이터>오늘 20일(현지시간) 취임하는 도널드 트럼프 미 대통령이 가상화폐를 정책 우선순위로 명시하고 산업계 인사들을 행정부에 편입시키는 행정명령을 발표할 예정이라는 보도가 나왔다.   16일(현지시간) 블룸버그통신은 소식통을 인용, 트럼프 당선인이 이 같은 행정 명령을 통해 가상화폐의 정책 우선순위 올려 정부 기관들이 산업계와 협력하도록 유도하는 전략을 펼칠 것이라고 전했다.   소식통들은 또한 행정명령에 산업계의 정책 우선 사항을 대변할 \\'암호화폐 자문 위원회\\'를 창설하는 방안도 포함될 것이라고 밝혔다.   매체는 이번 행정명령이 그의 재임 첫날인 20일(현지시간)에 서명될 가능성이 있지만, 아직 최종 확정 단계는 아니라고 전했다.   가상화폐와 관련된 소송을 전면 중단하도록 하는 지침도 논의 중인 것으로 알려졌다. 로이터통신 또한 전날 15일(현지시간) 차기 행정부의 증권거래위원회(SEC)가 가상화폐 관련 사건을 재검토하고 사기 혐의가 없는 사건을 일시 중지할 수 있다고 보도했다.   뉴욕타임스(NYT)는 이날 가상화폐 인사들이 차기 행정부의 \\'가상화폐 및 인공지능(AI) 차르\\'로 임명된 데이비드 색스 전 페이팔 최고운영책임자(COO)에 행정명령과 관련된 의견을 전달했다고 보도했다.   NYT는 또한 트럼프 당선인이 지난해 7월 관련 콘퍼런스에서 가상화폐 업계 인사들에게 비트코인 비축에 관한 아이디어를 언급한 바 있다고 전했다. 그는 지난달 가상화폐 비축을 이행할 것이냐 묻는 말에 \"그럴 것 같다\"라고 답했다.   트럼프 당선인은 과거 가상자산을 \"사기\"라고 비난했으나 최근 입장을 바꿔 미국을 \"세계 가상화폐의 수도\"로 만들겠다고 공언하고 있다. 그는 재무부 장관으로 스콧 베센트, 미국 증권거래위원회(SEC) 위원장으로 폴 앳킨스 등 친(親)가상화폐 인사를 내정하며 업계의 기대를 키우고 있다.   아울러 트럼프 당선인과 그가 지명한 가상화폐 관련 인사들은 차기 행정부에서 업계 규제 완화에 나설 것이라는 입장을 표명하고 있다.   바이든 행정부에서는 \\'가상화폐 저승사자\\'로 불리는 개리 겐슬러가 이끄는 미 증권거래위원회(SEC)를 비롯한 연방 기관들이 업계에 대해 100건 이상의 집행 조치를 단행했다.   가상화폐 업계는 겐슬러 의장과 SEC에 불만을 제기해 왔으며 SEC가 명확한 지침을 제공하지 않고 집행을 통해 산업계를 규제하고 있다고 비판해 왔다. 블록체인 협회에 따르면 2021년 이래 가상화폐 기업이 방어 소송에 지출한 비용은 4억2600만달러(약 5,970억원)에 이른다.\\n\\n')]"
      ]
     },
     "execution_count": 3,
     "metadata": {},
     "output_type": "execute_result"
    }
   ],
   "source": [
    "\n",
    "loader = WebBaseLoader(\n",
    "    web_paths=(\"https://n.news.naver.com/mnews/article/123/0002351254?sid=104\",),\n",
    "    bs_kwargs=dict(\n",
    "        parse_only=bs4.SoupStrainer(\n",
    "            \"div\",\n",
    "            attrs={\"class\": [\"newsct_article _article_body\"]},\n",
    "        )\n",
    "    ),\n",
    "    header_template={\n",
    "        \"User-Agent\": \"Mozilla/5.0 (Macintosh; Intel Mac OS X 10_15_7) AppleWebKit/537.36 (KHTML, like Gecko) Chrome/131.0.0.0 Safari/537.36\",\n",
    "    },\n",
    "    encoding=\"utf-8\"\n",
    ")\n",
    "docs = loader.load()\n",
    "docs"
   ]
  },
  {
   "cell_type": "code",
   "execution_count": 4,
   "metadata": {
    "id": "ewqNBMS_I7zB"
   },
   "outputs": [],
   "source": [
    "text_splitter = RecursiveCharacterTextSplitter(\n",
    "    chunk_size=1000,\n",
    "    chunk_overlap=200\n",
    ")\n",
    "splits = text_splitter.split_documents(docs)\n",
    "vectorstore = Chroma.from_documents(\n",
    "    documents=splits,\n",
    "    embedding=OpenAIEmbeddings(api_key=os.getenv('OPENAI_API_KEY'))\n",
    ")"
   ]
  },
  {
   "cell_type": "code",
   "execution_count": 5,
   "metadata": {
    "colab": {
     "base_uri": "https://localhost:8080/"
    },
    "id": "dKwUiRrPJMq1",
    "outputId": "2ba93b50-3965-4865-c232-3c4ad39fad7b"
   },
   "outputs": [
    {
     "name": "stderr",
     "output_type": "stream",
     "text": [
      "Number of requested results 4 is greater than number of elements in index 2, updating n_results = 2\n",
      "/opt/anaconda3/lib/python3.11/site-packages/langsmith/client.py:241: LangSmithMissingAPIKeyWarning: API key must be provided when using hosted LangSmith API\n",
      "  warnings.warn(\n"
     ]
    },
    {
     "name": "stdout",
     "output_type": "stream",
     "text": [
      "messages=[HumanMessage(content='You are an assistant for question-answering tasks. Use the following pieces of retrieved context to answer the question. If you don\\'t know the answer, just say that you don\\'t know. Use three sentences maximum and keep the answer concise.\\nQuestion: 뉴스기사 요약 \\nContext: ◆…지난 7월 미국 테네시주 내슈빌에서 열린 가상화폐 컨퍼런스에 참석한 도널드 트럼프 대통령 당선인 2024.07.27 <사진 로이터>오늘 20일(현지시간) 취임하는 도널드 트럼프 미 대통령이 가상화폐를 정책 우선순위로 명시하고 산업계 인사들을 행정부에 편입시키는 행정명령을 발표할 예정이라는 보도가 나왔다.   16일(현지시간) 블룸버그통신은 소식통을 인용, 트럼프 당선인이 이 같은 행정 명령을 통해 가상화폐의 정책 우선순위 올려 정부 기관들이 산업계와 협력하도록 유도하는 전략을 펼칠 것이라고 전했다.   소식통들은 또한 행정명령에 산업계의 정책 우선 사항을 대변할 \\'암호화폐 자문 위원회\\'를 창설하는 방안도 포함될 것이라고 밝혔다.   매체는 이번 행정명령이 그의 재임 첫날인 20일(현지시간)에 서명될 가능성이 있지만, 아직 최종 확정 단계는 아니라고 전했다.   가상화폐와 관련된 소송을 전면 중단하도록 하는 지침도 논의 중인 것으로 알려졌다. 로이터통신 또한 전날 15일(현지시간) 차기 행정부의 증권거래위원회(SEC)가 가상화폐 관련 사건을 재검토하고 사기 혐의가 없는 사건을 일시 중지할 수 있다고 보도했다.   뉴욕타임스(NYT)는 이날 가상화폐 인사들이 차기 행정부의 \\'가상화폐 및 인공지능(AI) 차르\\'로 임명된 데이비드 색스 전 페이팔 최고운영책임자(COO)에 행정명령과 관련된 의견을 전달했다고 보도했다.   NYT는 또한 트럼프 당선인이 지난해 7월 관련 콘퍼런스에서 가상화폐 업계 인사들에게 비트코인 비축에 관한 아이디어를 언급한 바 있다고 전했다. 그는 지난달 가상화폐 비축을 이행할 것이냐 묻는 말에 \"그럴 것 같다\"라고 답했다.   트럼프 당선인은 과거 가상자산을 \"사기\"라고 비난했으나 최근 입장을 바꿔 미국을 \"세계 가상화폐의 수도\"로 만들겠다고 공언하고 있다. 그는 재무부 장관으로 스콧 베센트, 미국 증권거래위원회(SEC) 위원장으로 폴 앳킨스 등 친(親)가상화폐 인사를 내정하며 업계의 기대를 키우고 있다.   아울러 트럼프 당선인과 그가\\n\\n말에 \"그럴 것 같다\"라고 답했다.   트럼프 당선인은 과거 가상자산을 \"사기\"라고 비난했으나 최근 입장을 바꿔 미국을 \"세계 가상화폐의 수도\"로 만들겠다고 공언하고 있다. 그는 재무부 장관으로 스콧 베센트, 미국 증권거래위원회(SEC) 위원장으로 폴 앳킨스 등 친(親)가상화폐 인사를 내정하며 업계의 기대를 키우고 있다.   아울러 트럼프 당선인과 그가 지명한 가상화폐 관련 인사들은 차기 행정부에서 업계 규제 완화에 나설 것이라는 입장을 표명하고 있다.   바이든 행정부에서는 \\'가상화폐 저승사자\\'로 불리는 개리 겐슬러가 이끄는 미 증권거래위원회(SEC)를 비롯한 연방 기관들이 업계에 대해 100건 이상의 집행 조치를 단행했다.   가상화폐 업계는 겐슬러 의장과 SEC에 불만을 제기해 왔으며 SEC가 명확한 지침을 제공하지 않고 집행을 통해 산업계를 규제하고 있다고 비판해 왔다. 블록체인 협회에 따르면 2021년 이래 가상화폐 기업이 방어 소송에 지출한 비용은 4억2600만달러(약 5,970억원)에 이른다. \\nAnswer:', additional_kwargs={}, response_metadata={})]\n"
     ]
    }
   ],
   "source": [
    "retriever = vectorstore.as_retriever()\n",
    "\n",
    "user_msg = \"뉴스기사 요약\"\n",
    "retrieved_docs = retriever.invoke(user_msg)\n",
    "\n",
    "def format_docs(docs):\n",
    "    return \"\\n\\n\".join(doc.page_content for doc in docs)\n",
    "prompt = hub.pull(\"rlm/rag-prompt\")\n",
    "\n",
    "user_prompt = prompt.invoke({\"context\": format_docs(retrieved_docs), \"question\": user_msg})\n",
    "print(user_prompt)"
   ]
  },
  {
   "cell_type": "code",
   "execution_count": 6,
   "metadata": {
    "colab": {
     "base_uri": "https://localhost:8080/"
    },
    "id": "bqHKsIyUJc_m",
    "outputId": "1a3a5c10-0855-4fd4-850e-77e9a3a6d9d0"
   },
   "outputs": [
    {
     "name": "stdout",
     "output_type": "stream",
     "text": [
      "도널드 트럼프가 취임 첫날인 20일에 가상화폐를 정책 우선순위로 삼고 관련 산업 인사들을 행정부에 포함시키는 행정명령을 발표할 예정이라고 보도됐다. 이 행정명령에는 '암호화폐 자문 위원회' 창설과 가상화폐 관련 소송 전면 중단 지침도 포함될 가능성이 있다. 트럼프는 최근 가상자산에 대한 입장을 바꾸어 미국을 \"세계 가상화폐의 수도\"로 만들겠다고 공언하고 있다.\n"
     ]
    }
   ],
   "source": [
    "response = llm.invoke(user_prompt)\n",
    "print(response.content)"
   ]
  }
 ],
 "metadata": {
  "colab": {
   "provenance": []
  },
  "kernelspec": {
   "display_name": "Python 3 (ipykernel)",
   "language": "python",
   "name": "python3"
  },
  "language_info": {
   "codemirror_mode": {
    "name": "ipython",
    "version": 3
   },
   "file_extension": ".py",
   "mimetype": "text/x-python",
   "name": "python",
   "nbconvert_exporter": "python",
   "pygments_lexer": "ipython3",
   "version": "3.11.9"
  }
 },
 "nbformat": 4,
 "nbformat_minor": 4
}
